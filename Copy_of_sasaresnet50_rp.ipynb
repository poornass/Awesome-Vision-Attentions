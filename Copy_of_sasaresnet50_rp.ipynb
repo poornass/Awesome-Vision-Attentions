{
  "cells": [
    {
      "cell_type": "markdown",
      "metadata": {
        "id": "view-in-github",
        "colab_type": "text"
      },
      "source": [
        "<a href=\"https://colab.research.google.com/github/poornass/Awesome-Vision-Attentions/blob/main/Copy_of_sasaresnet50_rp.ipynb\" target=\"_parent\"><img src=\"https://colab.research.google.com/assets/colab-badge.svg\" alt=\"Open In Colab\"/></a>"
      ]
    },
    {
      "cell_type": "code",
      "execution_count": null,
      "metadata": {
        "id": "pUb4quA5uq7U"
      },
      "outputs": [],
      "source": [
        "import numpy as np # linear algebra\n",
        "import pandas as pd # data processing, CSV file I/O (e.g. pd.read_csv)\n",
        "import os\n",
        "import torch\n",
        "import tarfile\n",
        "import torchvision\n",
        "import torch.nn as nn\n",
        "from PIL import Image\n",
        "import matplotlib.pyplot as plt\n",
        "import torch.nn.functional as F\n",
        "from torchvision import transforms\n",
        "from torchvision.utils import make_grid\n",
        "from torch.utils.data import random_split\n",
        "from torchvision.transforms import ToTensor\n",
        "from torchvision.datasets import ImageFolder\n",
        "from sklearn.model_selection import train_test_split\n",
        "from torch.utils.data import DataLoader, Subset, Dataset\n",
        "import torch.optim as optim\n",
        "\n",
        "from sklearn.metrics import precision_recall_fscore_support\n"
      ]
    },
    {
      "cell_type": "code",
      "execution_count": null,
      "metadata": {
        "id": "0BJLaq6WMJKZ"
      },
      "outputs": [],
      "source": [
        "def get_default_device():\n",
        "    \"\"\"Pick GPU if available, else CPU\"\"\"\n",
        "    if torch.cuda.is_available():\n",
        "        return torch.device('cuda')\n",
        "    else:\n",
        "        return torch.device('cpu')\n",
        "\n",
        "def to_device(data, device):\n",
        "    \"\"\"Move tensor(s) to chosen device\"\"\"\n",
        "    if isinstance(data, (list,tuple)):\n",
        "        return [to_device(x, device) for x in data]\n",
        "    return data.to(device, non_blocking=True)\n",
        "\n",
        "class DeviceDataLoader():\n",
        "    \"\"\"Wrap a dataloader to move data to a device\"\"\"\n",
        "    def __init__(self, dl, device):\n",
        "        self.dl = dl\n",
        "        self.device = device\n",
        "\n",
        "    def __iter__(self):\n",
        "        \"\"\"Yield a batch of data after moving it to device\"\"\"\n",
        "        for b in self.dl:\n",
        "            yield to_device(b, self.device)\n",
        "\n",
        "    def __len__(self):\n",
        "        \"\"\"Number of batches\"\"\"\n",
        "        return len(self.dl)"
      ]
    },
    {
      "cell_type": "code",
      "execution_count": null,
      "metadata": {
        "id": "gMiqP69vswOx"
      },
      "outputs": [],
      "source": [
        "transform = transforms.Compose([\n",
        "\n",
        "    # transforms.Resize((150,150)), #becasue vgg takes 150*150\n",
        "    # transforms.Resize((32, 32)),\n",
        "    transforms.Resize((224, 224)),\n",
        "\n",
        "    # transforms.RandomHorizontalFlip(),\n",
        "    # transforms.RandomVerticalFlip(),\n",
        "    transforms.ToTensor(),\n",
        "    transforms.Normalize((.5, .5, .5), (.5, .5, .5))\n",
        "\n",
        "])\n",
        "\n",
        "\n",
        "total_ds = ImageFolder('/content/drive/MyDrive/ChiSquareX/cnn_rp/cropped', transform=transform)\n",
        "\n",
        "\n",
        "TEST_SIZE = 0.2\n",
        "BATCH_SIZE = 2\n",
        "SEED = 42\n",
        "# SEED = 2021\n",
        "\n",
        "# generate indices: instead of the actual data we pass in integers instead\n",
        "train_indices, test_indices, _, _ = train_test_split(\n",
        "    range(len(total_ds)),\n",
        "    total_ds.targets,\n",
        "    # stratify=total_ds.targets,\n",
        "    test_size=TEST_SIZE,\n",
        "    random_state=SEED\n",
        ")\n",
        "\n",
        "pred_indices, test_indices, _, _ = train_test_split(\n",
        "    test_indices,\n",
        "    range(len(test_indices)),\n",
        "    # stratify=total_ds.targets,\n",
        "    test_size=0.5,\n",
        "    random_state=SEED\n",
        ")\n",
        "\n",
        "# generate subset based on indices\n",
        "train_ds = Subset(total_ds, train_indices)\n",
        "val_ds = Subset(total_ds, test_indices)\n",
        "pred_ds = Subset(total_ds, pred_indices)\n",
        "\n",
        "batch_size=4\n",
        "train_loader = DataLoader(train_ds, batch_size, shuffle=True, num_workers=2, pin_memory=True)\n",
        "test_loader = DataLoader(val_ds, batch_size, num_workers=2, pin_memory=True)\n",
        "pred_loader = DataLoader(pred_ds, batch_size, num_workers=2, pin_memory=True)"
      ]
    },
    {
      "cell_type": "code",
      "execution_count": null,
      "metadata": {
        "id": "PyKIIOK-htuu"
      },
      "outputs": [],
      "source": [
        "import torch.nn.init as init\n",
        "\n",
        "import math\n",
        "\n",
        "\n",
        "class AttentionConv(nn.Module):\n",
        "    def __init__(self, in_channels, out_channels, kernel_size, stride=1, padding=0, groups=1, bias=False):\n",
        "        super(AttentionConv, self).__init__()\n",
        "        self.out_channels = out_channels\n",
        "        self.kernel_size = kernel_size\n",
        "        self.stride = stride\n",
        "        self.padding = padding\n",
        "        self.groups = groups\n",
        "\n",
        "        assert self.out_channels % self.groups == 0, \"out_channels should be divided by groups. (example: out_channels: 40, groups: 4)\"\n",
        "\n",
        "        self.rel_h = nn.Parameter(torch.randn(out_channels // 2, 1, 1, kernel_size, 1), requires_grad=True)\n",
        "        self.rel_w = nn.Parameter(torch.randn(out_channels // 2, 1, 1, 1, kernel_size), requires_grad=True)\n",
        "\n",
        "        self.key_conv = nn.Conv2d(in_channels, out_channels, kernel_size=1, bias=bias)\n",
        "        self.query_conv = nn.Conv2d(in_channels, out_channels, kernel_size=1, bias=bias)\n",
        "        self.value_conv = nn.Conv2d(in_channels, out_channels, kernel_size=1, bias=bias)\n",
        "\n",
        "        self.reset_parameters()\n",
        "\n",
        "    def forward(self, x):\n",
        "        batch, channels, height, width = x.size()\n",
        "\n",
        "        padded_x = F.pad(x, [self.padding, self.padding, self.padding, self.padding])\n",
        "        q_out = self.query_conv(x)\n",
        "        k_out = self.key_conv(padded_x)\n",
        "        v_out = self.value_conv(padded_x)\n",
        "\n",
        "        k_out = k_out.unfold(2, self.kernel_size, self.stride).unfold(3, self.kernel_size, self.stride)\n",
        "        v_out = v_out.unfold(2, self.kernel_size, self.stride).unfold(3, self.kernel_size, self.stride)\n",
        "\n",
        "        k_out_h, k_out_w = k_out.split(self.out_channels // 2, dim=1)\n",
        "        k_out = torch.cat((k_out_h + self.rel_h, k_out_w + self.rel_w), dim=1)\n",
        "\n",
        "        k_out = k_out.contiguous().view(batch, self.groups, self.out_channels // self.groups, height, width, -1)\n",
        "        v_out = v_out.contiguous().view(batch, self.groups, self.out_channels // self.groups, height, width, -1)\n",
        "\n",
        "        q_out = q_out.view(batch, self.groups, self.out_channels // self.groups, height, width, 1)\n",
        "\n",
        "        out = q_out * k_out\n",
        "        out = F.softmax(out, dim=-1)\n",
        "        out = torch.einsum('bnchwk,bnchwk -> bnchw', out, v_out).view(batch, -1, height, width)\n",
        "\n",
        "        return out\n",
        "\n",
        "    def reset_parameters(self):\n",
        "        init.kaiming_normal_(self.key_conv.weight, mode='fan_out', nonlinearity='relu')\n",
        "        init.kaiming_normal_(self.value_conv.weight, mode='fan_out', nonlinearity='relu')\n",
        "        init.kaiming_normal_(self.query_conv.weight, mode='fan_out', nonlinearity='relu')\n",
        "\n",
        "        init.normal_(self.rel_h, 0, 1)\n",
        "        init.normal_(self.rel_w, 0, 1)\n",
        "\n",
        "\n",
        "class AttentionStem(nn.Module):\n",
        "    def __init__(self, in_channels, out_channels, kernel_size, stride=1, padding=0, groups=1, m=4, bias=False):\n",
        "        super(AttentionStem, self).__init__()\n",
        "        self.out_channels = out_channels\n",
        "        self.kernel_size = kernel_size\n",
        "        self.stride = stride\n",
        "        self.padding = padding\n",
        "        self.groups = groups\n",
        "        self.m = m\n",
        "\n",
        "        assert self.out_channels % self.groups == 0, \"out_channels should be divided by groups. (example: out_channels: 40, groups: 4)\"\n",
        "\n",
        "        self.emb_a = nn.Parameter(torch.randn(out_channels // groups, kernel_size), requires_grad=True)\n",
        "        self.emb_b = nn.Parameter(torch.randn(out_channels // groups, kernel_size), requires_grad=True)\n",
        "        self.emb_mix = nn.Parameter(torch.randn(m, out_channels // groups), requires_grad=True)\n",
        "\n",
        "        self.key_conv = nn.Conv2d(in_channels, out_channels, kernel_size=1, bias=bias)\n",
        "        self.query_conv = nn.Conv2d(in_channels, out_channels, kernel_size=1, bias=bias)\n",
        "        self.value_conv = nn.ModuleList([nn.Conv2d(in_channels, out_channels, kernel_size=1, bias=bias) for _ in range(m)])\n",
        "\n",
        "        self.reset_parameters()\n",
        "\n",
        "    def forward(self, x):\n",
        "        batch, channels, height, width = x.size()\n",
        "\n",
        "        padded_x = F.pad(x, [self.padding, self.padding, self.padding, self.padding])\n",
        "\n",
        "        q_out = self.query_conv(x)\n",
        "        k_out = self.key_conv(padded_x)\n",
        "        v_out = torch.stack([self.value_conv[_](padded_x) for _ in range(self.m)], dim=0)\n",
        "\n",
        "        k_out = k_out.unfold(2, self.kernel_size, self.stride).unfold(3, self.kernel_size, self.stride)\n",
        "        v_out = v_out.unfold(3, self.kernel_size, self.stride).unfold(4, self.kernel_size, self.stride)\n",
        "\n",
        "        k_out = k_out[:, :, :height, :width, :, :]\n",
        "        v_out = v_out[:, :, :, :height, :width, :, :]\n",
        "\n",
        "        emb_logit_a = torch.einsum('mc,ca->ma', self.emb_mix, self.emb_a)\n",
        "        emb_logit_b = torch.einsum('mc,cb->mb', self.emb_mix, self.emb_b)\n",
        "        emb = emb_logit_a.unsqueeze(2) + emb_logit_b.unsqueeze(1)\n",
        "        emb = F.softmax(emb.view(self.m, -1), dim=0).view(self.m, 1, 1, 1, 1, self.kernel_size, self.kernel_size)\n",
        "\n",
        "        v_out = emb * v_out\n",
        "\n",
        "        k_out = k_out.contiguous().view(batch, self.groups, self.out_channels // self.groups, height, width, -1)\n",
        "        v_out = v_out.contiguous().view(self.m, batch, self.groups, self.out_channels // self.groups, height, width, -1)\n",
        "        v_out = torch.sum(v_out, dim=0).view(batch, self.groups, self.out_channels // self.groups, height, width, -1)\n",
        "\n",
        "        q_out = q_out.view(batch, self.groups, self.out_channels // self.groups, height, width, 1)\n",
        "\n",
        "        out = q_out * k_out\n",
        "        out = F.softmax(out, dim=-1)\n",
        "        out = torch.einsum('bnchwk,bnchwk->bnchw', out, v_out).view(batch, -1, height, width)\n",
        "\n",
        "        return out\n",
        "\n",
        "    def reset_parameters(self):\n",
        "        init.kaiming_normal_(self.key_conv.weight, mode='fan_out', nonlinearity='relu')\n",
        "        init.kaiming_normal_(self.query_conv.weight, mode='fan_out', nonlinearity='relu')\n",
        "        for _ in self.value_conv:\n",
        "            init.kaiming_normal_(_.weight, mode='fan_out', nonlinearity='relu')\n",
        "\n",
        "        init.normal_(self.emb_a, 0, 1)\n",
        "        init.normal_(self.emb_b, 0, 1)\n",
        "        init.normal_(self.emb_mix, 0, 1)\n",
        "\n",
        "\n",
        "# temp = torch.randn((2, 3, 32, 32))\n",
        "# conv = AttentionConv(3, 16, kernel_size=3, padding=1)\n",
        "# print(conv(temp).size())\n"
      ]
    },
    {
      "cell_type": "code",
      "execution_count": null,
      "metadata": {
        "colab": {
          "base_uri": "https://localhost:8080/"
        },
        "id": "fhP1Ath8hh7j",
        "outputId": "bcce0445-685b-45d6-ed80-2f8cd791d4ea"
      },
      "outputs": [
        {
          "output_type": "stream",
          "name": "stdout",
          "text": [
            "16003975\n"
          ]
        }
      ],
      "source": [
        "class Bottleneck(nn.Module):\n",
        "    expansion = 4\n",
        "\n",
        "    def __init__(self, in_channels, out_channels, stride=1, groups=1, base_width=64):\n",
        "        super(Bottleneck, self).__init__()\n",
        "        self.stride = stride\n",
        "        width = int(out_channels * (base_width / 64.)) * groups\n",
        "\n",
        "        self.conv1 = nn.Sequential(\n",
        "            nn.Conv2d(in_channels, width, kernel_size=1, bias=False),\n",
        "            nn.BatchNorm2d(width),\n",
        "            nn.ReLU(),\n",
        "        )\n",
        "        self.conv2 = nn.Sequential(\n",
        "            AttentionConv(width, width, kernel_size=7, padding=3, groups=8),\n",
        "            nn.BatchNorm2d(width),\n",
        "            nn.ReLU(),\n",
        "        )\n",
        "        self.conv3 = nn.Sequential(\n",
        "            nn.Conv2d(width, self.expansion * out_channels, kernel_size=1, bias=False),\n",
        "            nn.BatchNorm2d(self.expansion * out_channels),\n",
        "        )\n",
        "\n",
        "        self.shortcut = nn.Sequential()\n",
        "        if stride != 1 or in_channels != self.expansion * out_channels:\n",
        "            self.shortcut = nn.Sequential(\n",
        "                nn.Conv2d(in_channels, self.expansion * out_channels, kernel_size=1, stride=stride, bias=False),\n",
        "                nn.BatchNorm2d(self.expansion * out_channels)\n",
        "            )\n",
        "\n",
        "    def forward(self, x):\n",
        "        out = self.conv1(x)\n",
        "        out = self.conv2(out)\n",
        "        out = self.conv3(out)\n",
        "        if self.stride >= 2:\n",
        "            out = F.avg_pool2d(out, (self.stride, self.stride))\n",
        "\n",
        "        out += self.shortcut(x)\n",
        "        out = F.relu(out)\n",
        "\n",
        "        return out\n",
        "\n",
        "\n",
        "class Model(nn.Module):\n",
        "    def __init__(self, block, num_blocks, num_classes=1000, stem=True):\n",
        "        super(Model, self).__init__()\n",
        "        self.in_places = 64\n",
        "\n",
        "        if stem:\n",
        "            self.init = nn.Sequential(\n",
        "                # # CIFAR10\n",
        "                # AttentionStem(in_channels=3, out_channels=64, kernel_size=4, stride=1, padding=2, groups=1),\n",
        "                # nn.BatchNorm2d(64),\n",
        "                # nn.ReLU(),\n",
        "\n",
        "                # For ImageNet\n",
        "                AttentionStem(in_channels=3, out_channels=64, kernel_size=4, stride=1, padding=2, groups=1),\n",
        "                nn.BatchNorm2d(64),\n",
        "                nn.ReLU(),\n",
        "                nn.MaxPool2d(4, 4)\n",
        "            )\n",
        "        else:\n",
        "            self.init = nn.Sequential(\n",
        "                # # CIFAR10\n",
        "                # nn.Conv2d(3, 64, kernel_size=3, stride=1, padding=1, bias=False),\n",
        "                # nn.BatchNorm2d(64),\n",
        "                # nn.ReLU(),\n",
        "\n",
        "                # For ImageNet\n",
        "                nn.Conv2d(3, 64, kernel_size=7, stride=2, padding=3, bias=False),\n",
        "                nn.BatchNorm2d(64),\n",
        "                nn.ReLU(),\n",
        "                nn.MaxPool2d(kernel_size=3, stride=2, padding=1)\n",
        "            )\n",
        "\n",
        "        self.layer1 = self._make_layer(block, 64, num_blocks[0], stride=1)\n",
        "        self.layer2 = self._make_layer(block, 128, num_blocks[1], stride=2)\n",
        "        self.layer3 = self._make_layer(block, 256, num_blocks[2], stride=2)\n",
        "        self.layer4 = self._make_layer(block, 512, num_blocks[3], stride=2)\n",
        "        self.dense = nn.Linear(512 * block.expansion, num_classes)\n",
        "\n",
        "    def _make_layer(self, block, planes, num_blocks, stride):\n",
        "        strides = [stride] + [1] * (num_blocks - 1)\n",
        "        layers = []\n",
        "        for stride in strides:\n",
        "            layers.append(block(self.in_places, planes, stride))\n",
        "            self.in_places = planes * block.expansion\n",
        "        return nn.Sequential(*layers)\n",
        "\n",
        "    def forward(self, x):\n",
        "        out = self.init(x)\n",
        "        out = self.layer1(out)\n",
        "        out = self.layer2(out)\n",
        "        out = self.layer3(out)\n",
        "        out = self.layer4(out)\n",
        "        out = F.avg_pool2d(out, 4)\n",
        "        out = out.view(out.size(0), -1)\n",
        "        out = self.dense(out)\n",
        "\n",
        "        return out\n",
        "\n",
        "\n",
        "def ResNet26(num_classes=7, stem=False):\n",
        "    return Model(Bottleneck, [1, 2, 4, 1], num_classes=num_classes, stem=stem)\n",
        "\n",
        "\n",
        "def ResNet38(num_classes=7, stem=False):\n",
        "    return Model(Bottleneck, [2, 3, 5, 2], num_classes=num_classes, stem=stem)\n",
        "\n",
        "\n",
        "def ResNet50(num_classes=7, stem=False):\n",
        "    return Model(Bottleneck, [3, 4, 6, 3], num_classes=num_classes, stem=stem)\n",
        "\n",
        "\n",
        "def get_model_parameters(model):\n",
        "    total_parameters = 0\n",
        "    for layer in list(model.parameters()):\n",
        "        layer_parameter = 1\n",
        "        for l in list(layer.size()):\n",
        "            layer_parameter *= l\n",
        "        total_parameters += layer_parameter\n",
        "    return total_parameters\n",
        "\n",
        "\n",
        "# temp = torch.randn((2, 3, 224, 224))\n",
        "model = ResNet50(num_classes=7, stem=False)\n",
        "device = get_default_device()\n",
        "device\n",
        "model = to_device(model, device)\n",
        "print(get_model_parameters(model))\n"
      ]
    },
    {
      "cell_type": "code",
      "execution_count": null,
      "metadata": {
        "id": "V511S5VRsr6o"
      },
      "outputs": [],
      "source": [
        "# def accuracy(outputs, labels):\n",
        "#     _, preds = torch.max(outputs, dim=1)\n",
        "#     return torch.tensor(torch.sum(preds == labels).item() / len(preds))"
      ]
    },
    {
      "cell_type": "code",
      "execution_count": null,
      "metadata": {
        "id": "oT0MeHy6iK6f"
      },
      "outputs": [],
      "source": [
        "import os\n",
        "from tqdm import tqdm\n",
        "import shutil\n",
        "\n",
        "# from config import get_args, get_logger\n",
        "# from model import ResNet50, ResNet38, ResNet26\n",
        "# from preprocess import load_data\n",
        "\n",
        "\n",
        "def adjust_learning_rate(optimizer, epoch):\n",
        "    \"\"\"Sets the learning rate to the initial LR decayed by 10 every 30 epochs\"\"\"\n",
        "    lr = 0.01 * (0.1 ** (epoch // 30))    ##############################################################################################\n",
        "    for param_group in optimizer.param_groups:\n",
        "        param_group['lr'] = lr\n",
        "\n",
        "\n",
        "def train(model, train_loader, optimizer, criterion, epoch):\n",
        "    model.train()\n",
        "\n",
        "    # train_acc = 0.0\n",
        "\n",
        "    step = 0\n",
        "    for data, target in train_loader:\n",
        "        # adjust_learning_rate(optimizer, epoch)\n",
        "        # if args.cuda:\n",
        "        data, target = data.cuda(), target.cuda()\n",
        "\n",
        "        optimizer.zero_grad()\n",
        "        output = model(data)\n",
        "        loss = criterion(output, target)\n",
        "        loss.backward()\n",
        "        optimizer.step()\n",
        "\n",
        "        y_pred = output.data.max(1)[1]\n",
        "\n",
        "        # acc = float(y_pred.eq(target.data).sum()) / len(data) * 100.\n",
        "        # train_acc += acc\n",
        "        # step += 1\n",
        "        # if step % 100 == 0:\n",
        "        #     print(\"[Epoch {0:4d}] Loss: {1:2.3f} \".format(epoch, loss.data), end='')\n",
        "        #     # logger.info(\"[Epoch {0:4d}] Loss: {1:2.3f} Acc: {2:.3f}%\".format(epoch, loss.data, acc))\n",
        "        #     for param_group in optimizer.param_groups:\n",
        "        #         print(\",  Current learning rate is: {}\".format(param_group['lr']))\n",
        "        #         # logger.info(\"Current learning rate is: {}\".format(param_group['lr']))\n",
        "    print(\"[Epoch {0:4d}] Loss: {1:2.3f} \".format(epoch, loss.data), end='')\n",
        "    return epoch, loss.data\n",
        "\n",
        "\n",
        "def eval(model, test_loader):\n",
        "    model.eval()\n",
        "    correct = 0\n",
        "    pred = []\n",
        "    labels = []\n",
        "    probs = []\n",
        "    with torch.no_grad():\n",
        "        for data, target in test_loader:\n",
        "\n",
        "            data, target = data.cuda(), target.cuda()\n",
        "            labels.append(target.data)\n",
        "\n",
        "            output = model(data)\n",
        "            prediction = output.data.max(1)[1]\n",
        "            pred.append(prediction)\n",
        "            prob = torch.softmax(output, dim=1).detach().cpu()\n",
        "\n",
        "            # print(prob)\n",
        "            probs.append(prob)\n",
        "            correct += prediction.eq(target.data).sum()\n",
        "\n",
        "    acc = 100. * float(correct) / len(test_loader.dataset)\n",
        "    print('Acc: {0:.2f}'.format(acc))\n",
        "    return acc, pred, labels, probs\n",
        "\n",
        "\n",
        "def get_model_parameters(model):\n",
        "    total_parameters = 0\n",
        "    for layer in list(model.parameters()):\n",
        "        layer_parameter = 1\n",
        "        for l in list(layer.size()):\n",
        "            layer_parameter *= l\n",
        "        total_parameters += layer_parameter\n",
        "    return total_parameters\n",
        "\n",
        "\n",
        "def save_checkpoint(state, is_best, filename):\n",
        "    file_path = os.path.join('./checkpoint', filename)\n",
        "    torch.save(state, file_path)\n",
        "    best_file_path = os.path.join('./checkpoint', 'best_' + filename)\n",
        "    if is_best:\n",
        "        print('best Model Saving ...')\n",
        "        shutil.copyfile(file_path, best_file_path)\n",
        "\n",
        "\n",
        "# if __name__ == '__main__':\n",
        "#     args, logger = get_args()\n",
        "#     main(args, logger)\n"
      ]
    },
    {
      "cell_type": "code",
      "execution_count": null,
      "metadata": {
        "colab": {
          "base_uri": "https://localhost:8080/"
        },
        "id": "x330nSDhioMB",
        "outputId": "698238a5-a6c1-4895-8b43-1a6a3af15044"
      },
      "outputs": [
        {
          "output_type": "stream",
          "name": "stdout",
          "text": [
            "[Epoch    0] Loss: 1.260 Acc: 15.09\n",
            "[Epoch    1] Loss: 1.662 Acc: 11.32\n",
            "[Epoch    2] Loss: 2.379 Acc: 32.08\n"
          ]
        }
      ],
      "source": [
        "lr = 0.01\n",
        "epochs = 3   #150 for final results\n",
        "criterion = nn.CrossEntropyLoss()\n",
        "optimizer = optim.SGD(model.parameters(), lr, momentum=0.9)\n",
        "# optimizer = optim.SGD(model.parameters(), lr=0.001, momentum=0.9, weight_decay=args.weight_decay)\n",
        "\n",
        "best_acc = 0\n",
        "history = []\n",
        "for epoch in range(epochs):\n",
        "  e, loss = train(model, train_loader, optimizer, criterion, epoch)\n",
        "  eval_acc, _, _, _ = eval(model, pred_loader)\n",
        "\n",
        "  history.append({'e':e, 'loss':loss.data, 'acc':eval_acc})\n",
        "\n",
        "  if eval_acc > best_acc:\n",
        "    best_acc = eval_acc\n",
        "    torch.save(model.state_dict(), '/sample_data')\n",
        "\n",
        "\n",
        "  # is_best = eval_acc > best_acc\n",
        "  # best_acc = max(eval_acc, best_acc)\n",
        "\n",
        "  # if not os.path.isdir('checkpoint'):\n",
        "  #     os.mkdir('checkpoint')\n",
        "  # filename = 'model_' + str(args.dataset) + '_' + str(args.model_name) + '_' + str(args.stem) + '_ckpt.tar'\n",
        "  # print('filename :: ', filename)\n",
        "\n",
        "  # parameters = get_model_parameters(model)\n",
        "\n",
        "  # if torch.cuda.device_count() > 1:\n",
        "  #     save_checkpoint({\n",
        "  #         'epoch': epoch,\n",
        "  #         # 'arch': args.model_name,\n",
        "  #         'state_dict': model.module.state_dict(),\n",
        "  #         'best_acc': best_acc,\n",
        "  #         'optimizer': optimizer.state_dict(),\n",
        "  #         'parameters': parameters,\n",
        "  #     }, is_best, filename)\n",
        "  # else:\n",
        "  #     save_checkpoint({\n",
        "  #         'epoch': epoch,\n",
        "  #         # 'arch': args.model_name,\n",
        "  #         'state_dict': model.state_dict(),\n",
        "  #         'best_acc': best_acc,\n",
        "  #         'optimizer': optimizer.state_dict(),\n",
        "  #         'parameters': parameters,\n",
        "  #     }, is_best, filename)\n"
      ]
    },
    {
      "cell_type": "markdown",
      "source": [
        "## Results"
      ],
      "metadata": {
        "id": "IuMbrHFgm7LF"
      }
    },
    {
      "cell_type": "code",
      "execution_count": null,
      "metadata": {
        "id": "k5GI9Y0hIjQK"
      },
      "outputs": [],
      "source": [
        "import matplotlib.pyplot as plt\n",
        "%matplotlib inline\n",
        "train_loss = [history[i]['loss'].detach().cpu() for i in range(epochs)]\n",
        "\n",
        "accu = [history[i]['acc'] for i in range(epochs)]"
      ]
    },
    {
      "cell_type": "code",
      "source": [
        "train_loss[0].detach().cpu()"
      ],
      "metadata": {
        "colab": {
          "base_uri": "https://localhost:8080/"
        },
        "id": "wEeYAyMkjleO",
        "outputId": "5295a0c3-230a-4987-c026-ea6901ee0913"
      },
      "execution_count": null,
      "outputs": [
        {
          "output_type": "execute_result",
          "data": {
            "text/plain": [
              "tensor(1.2597)"
            ]
          },
          "metadata": {},
          "execution_count": 15
        }
      ]
    },
    {
      "cell_type": "code",
      "execution_count": null,
      "metadata": {
        "colab": {
          "base_uri": "https://localhost:8080/",
          "height": 279
        },
        "id": "iWCqJv0qIq2L",
        "outputId": "8d7ecf82-601c-46ea-9767-8cd1e72501ef"
      },
      "outputs": [
        {
          "output_type": "display_data",
          "data": {
            "image/png": "[encoded data removed]",
            "text/plain": [
              "<Figure size 432x288 with 1 Axes>"
            ]
          },
          "metadata": {
            "needs_background": "light"
          }
        }
      ],
      "source": [
        "iter = range(0, epochs)\n",
        "\n",
        "plt.plot(iter, train_loss, 'g', label='Train Loss')\n",
        "# plt.plot(iter, val_loss, 'r', label='Validation Loss')\n",
        "\n",
        "\n",
        "plt.xlabel('Iterations')\n",
        "plt.ylabel('Loss')\n",
        "plt.legend()\n",
        "plt.show()"
      ]
    },
    {
      "cell_type": "code",
      "execution_count": null,
      "metadata": {
        "colab": {
          "base_uri": "https://localhost:8080/",
          "height": 279
        },
        "id": "NhTNtfwEIqyO",
        "outputId": "1e3a72f8-12bc-4420-a698-448808b4664c"
      },
      "outputs": [
        {
          "output_type": "display_data",
          "data": {
            "image/png": "[encoded data removed]",
            "text/plain": [
              "<Figure size 432x288 with 1 Axes>"
            ]
          },
          "metadata": {
            "needs_background": "light"
          }
        }
      ],
      "source": [
        "plt.plot(iter, accu, 'b', label='Accuracy')\n",
        "\n",
        "plt.xlabel('Iterations')\n",
        "plt.legend()\n",
        "plt.show()"
      ]
    },
    {
      "cell_type": "code",
      "execution_count": null,
      "metadata": {
        "id": "3BeK5Jg29Je1",
        "colab": {
          "base_uri": "https://localhost:8080/"
        },
        "outputId": "d9f9c754-5eaa-4fd3-8fe6-fa21199fa92d"
      },
      "outputs": [
        {
          "output_type": "stream",
          "name": "stdout",
          "text": [
            "Acc: 20.37\n"
          ]
        }
      ],
      "source": [
        "test_acc, pred, labels, probs = eval(model, test_loader)\n",
        "# print(pred, labels)"
      ]
    },
    {
      "cell_type": "code",
      "execution_count": null,
      "metadata": {
        "id": "_TezPoZWHtFJ"
      },
      "outputs": [],
      "source": [
        "saved_model = ResNet50(num_classes=7, stem=False)\n",
        "\n",
        "saved_model.load_state_dict(torch.load('/sample_data'))\n",
        "saved_model = to_device(saved_model, device)"
      ]
    },
    {
      "cell_type": "code",
      "execution_count": null,
      "metadata": {
        "id": "HB7qoFCilz66",
        "colab": {
          "base_uri": "https://localhost:8080/"
        },
        "outputId": "45b74c92-a18b-447b-cf27-e8234195fbdc"
      },
      "outputs": [
        {
          "output_type": "stream",
          "name": "stdout",
          "text": [
            "Acc: 20.37\n"
          ]
        }
      ],
      "source": [
        "acc, pred, labels, probs =  eval(saved_model, test_loader)"
      ]
    },
    {
      "cell_type": "code",
      "execution_count": null,
      "metadata": {
        "id": "I7k9ZAOoVAfB"
      },
      "outputs": [],
      "source": [
        "l = [labels[i] for i in range(len(labels))]\n",
        "lf = torch.cat(l)\n",
        "\n",
        "p = [pred[i] for i in range(len(pred))]\n",
        "pf = torch.cat(p)\n",
        "\n",
        "prob_ = [probs[i] for i in range(len(probs))]\n",
        "pred_prob = torch.cat(prob_).cpu().numpy()"
      ]
    },
    {
      "cell_type": "code",
      "execution_count": null,
      "metadata": {
        "id": "T094r0vLB6I_",
        "colab": {
          "base_uri": "https://localhost:8080/"
        },
        "outputId": "6bd5c490-266a-4d11-9806-0be759d59ab8"
      },
      "outputs": [
        {
          "output_type": "stream",
          "name": "stdout",
          "text": [
            "Precision: 0.5940170940170941 \n",
            "Recall: 0.2037037037037037 \n",
            "F1 Score: 0.2986906098017209 \n"
          ]
        },
        {
          "output_type": "stream",
          "name": "stderr",
          "text": [
            "/usr/local/lib/python3.7/dist-packages/sklearn/metrics/_classification.py:1318: UndefinedMetricWarning: Recall and F-score are ill-defined and being set to 0.0 in labels with no true samples. Use `zero_division` parameter to control this behavior.\n",
            "  _warn_prf(average, modifier, msg_start, len(result))\n"
          ]
        }
      ],
      "source": [
        "prfs = precision_recall_fscore_support(pf.cpu(), lf.cpu(), average='weighted')\n",
        "print(\"Precision: {} \\nRecall: {} \\nF1 Score: {} \".format(prfs[0], prfs[1], prfs[2]))"
      ]
    },
    {
      "cell_type": "code",
      "execution_count": null,
      "metadata": {
        "id": "1GB5eJtSOzw-",
        "colab": {
          "base_uri": "https://localhost:8080/",
          "height": 312
        },
        "outputId": "8cb5f10d-c25f-499b-9b70-0084d378c571"
      },
      "outputs": [
        {
          "output_type": "execute_result",
          "data": {
            "text/plain": [
              "<matplotlib.legend.Legend at 0x7f908cca1710>"
            ]
          },
          "metadata": {},
          "execution_count": 24
        },
        {
          "output_type": "display_data",
          "data": {
            "image/png": "[encoded data removed]",
            "text/plain": [
              "<Figure size 432x288 with 1 Axes>"
            ]
          },
          "metadata": {
            "needs_background": "light"
          }
        }
      ],
      "source": [
        "from sklearn.metrics import roc_curve\n",
        "from sklearn.metrics import roc_auc_score\n",
        "\n",
        "\n",
        "\n",
        "# roc curve for classes\n",
        "fpr = {}\n",
        "tpr = {}\n",
        "thresh ={}\n",
        "\n",
        "n_class = 7\n",
        "\n",
        "# pred_prob = pred['probs'][0].detach().cpu().numpy()\n",
        "# a = pred_prob[pred['preds'][0].cpu().numpy() == 0]\n",
        "\n",
        "# print(pred_prob, '\\n --------------------------------------')\n",
        "for i in range(n_class):\n",
        "    # print( pred_prob[:,i])\n",
        "    fpr[i], tpr[i], thresh[i] = roc_curve(lf.cpu(), pred_prob[:,i], pos_label=i)\n",
        "\n",
        "# plotting\n",
        "plt.plot(fpr[0], tpr[0], linestyle='--',color='orange', label='Class 0 vs Rest')\n",
        "plt.plot(fpr[1], tpr[1], linestyle='--',color='green', label='Class 1 vs Rest')\n",
        "plt.plot(fpr[2], tpr[2], linestyle='--',color='blue', label='Class 2 vs Rest')\n",
        "plt.plot(fpr[3], tpr[3], linestyle='--',color='red', label='Class 3 vs Rest')\n",
        "plt.plot(fpr[4], tpr[4], linestyle='--',color='purple', label='Class 4 vs Rest')\n",
        "plt.plot(fpr[5], tpr[5], linestyle='--',color='yellow', label='Class 5 vs Rest')\n",
        "plt.plot(fpr[6], tpr[6], linestyle='--',color='black', label='Class 6 vs Rest')\n",
        "plt.title('Multiclass ROC curve')\n",
        "plt.xlabel('False Positive Rate')\n",
        "plt.ylabel('True Positive rate')\n",
        "plt.legend(loc='best')\n",
        "# plt.savefig('Multiclass ROC',dpi=300);\n"
      ]
    },
    {
      "cell_type": "code",
      "execution_count": null,
      "metadata": {
        "id": "JR1eEp8cbMe8"
      },
      "outputs": [],
      "source": []
    }
  ],
  "metadata": {
    "accelerator": "GPU",
    "colab": {
      "provenance": [],
      "include_colab_link": true
    },
    "kernelspec": {
      "display_name": "Python 3",
      "name": "python3"
    },
    "language_info": {
      "name": "python"
    }
  },
  "nbformat": 4,
  "nbformat_minor": 0
}