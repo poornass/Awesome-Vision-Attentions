{
  "cells": [
    {
      "cell_type": "markdown",
      "metadata": {
        "id": "view-in-github",
        "colab_type": "text"
      },
      "source": [
        "<a href=\"https://colab.research.google.com/github/poornass/Awesome-Vision-Attentions/blob/main/chirplet_and_cwt_features.ipynb\" target=\"_parent\"><img src=\"https://colab.research.google.com/assets/colab-badge.svg\" alt=\"Open In Colab\"/></a>"
      ]
    },
    {
      "cell_type": "code",
      "execution_count": 1,
      "metadata": {
        "colab": {
          "base_uri": "https://localhost:8080/"
        },
        "id": "wfE0EJCCyApP",
        "outputId": "2fcc96e5-59a0-4061-d0b0-4d4cf511f331"
      },
      "outputs": [
        {
          "output_type": "stream",
          "name": "stdout",
          "text": [
            "Cloning into 'fastchirplet'...\n",
            "remote: Enumerating objects: 133, done.\u001b[K\n",
            "remote: Total 133 (delta 0), reused 0 (delta 0), pack-reused 133\u001b[K\n",
            "Receiving objects: 100% (133/133), 125.33 MiB | 34.03 MiB/s, done.\n",
            "Resolving deltas: 100% (22/22), done.\n"
          ]
        }
      ],
      "source": [
        "!git clone https://github.com/DYNI-TOULON/fastchirplet.git"
      ]
    },
    {
      "cell_type": "code",
      "execution_count": 2,
      "metadata": {
        "colab": {
          "base_uri": "https://localhost:8080/"
        },
        "id": "yEnNAv9rYHE6",
        "outputId": "a7bd6934-6709-4c57-dbb4-d0533f885232"
      },
      "outputs": [
        {
          "output_type": "stream",
          "name": "stdout",
          "text": [
            "Collecting ssqueezepy\n",
            "  Downloading ssqueezepy-0.6.3-py3-none-any.whl (125 kB)\n",
            "\u001b[?25l\r\u001b[K     |██▋                             | 10 kB 18.6 MB/s eta 0:00:01\r\u001b[K     |█████▎                          | 20 kB 24.7 MB/s eta 0:00:01\r\u001b[K     |███████▉                        | 30 kB 30.1 MB/s eta 0:00:01\r\u001b[K     |██████████▌                     | 40 kB 28.9 MB/s eta 0:00:01\r\u001b[K     |█████████████                   | 51 kB 21.7 MB/s eta 0:00:01\r\u001b[K     |███████████████▊                | 61 kB 24.1 MB/s eta 0:00:01\r\u001b[K     |██████████████████▍             | 71 kB 24.2 MB/s eta 0:00:01\r\u001b[K     |█████████████████████           | 81 kB 25.6 MB/s eta 0:00:01\r\u001b[K     |███████████████████████▋        | 92 kB 27.2 MB/s eta 0:00:01\r\u001b[K     |██████████████████████████▏     | 102 kB 27.0 MB/s eta 0:00:01\r\u001b[K     |████████████████████████████▉   | 112 kB 27.0 MB/s eta 0:00:01\r\u001b[K     |███████████████████████████████▌| 122 kB 27.0 MB/s eta 0:00:01\r\u001b[K     |████████████████████████████████| 125 kB 27.0 MB/s \n",
            "\u001b[?25hRequirement already satisfied: numba in /usr/local/lib/python3.7/dist-packages (from ssqueezepy) (0.51.2)\n",
            "Requirement already satisfied: numpy in /usr/local/lib/python3.7/dist-packages (from ssqueezepy) (1.21.6)\n",
            "Requirement already satisfied: scipy in /usr/local/lib/python3.7/dist-packages (from ssqueezepy) (1.4.1)\n",
            "Requirement already satisfied: llvmlite<0.35,>=0.34.0.dev0 in /usr/local/lib/python3.7/dist-packages (from numba->ssqueezepy) (0.34.0)\n",
            "Requirement already satisfied: setuptools in /usr/local/lib/python3.7/dist-packages (from numba->ssqueezepy) (57.4.0)\n",
            "Installing collected packages: ssqueezepy\n",
            "Successfully installed ssqueezepy-0.6.3\n"
          ]
        }
      ],
      "source": [
        "!pip install ssqueezepy"
      ]
    },
    {
      "cell_type": "code",
      "execution_count": 3,
      "metadata": {
        "id": "hSSb-oLQuSLn"
      },
      "outputs": [],
      "source": [
        "import sys \n",
        "sys.path.append('/content/fastchirplet')\n",
        "import chirplet as ch\n",
        "import numpy as np\n",
        "import scipy.io.wavfile as wavf\n",
        "chirps=ch.FCT()\n",
        "samples = np.random.randn(44100*5)\n",
        "fs = 44100\n",
        "out_file = 'audio.wav'\n",
        "wavf.write(out_file, fs, samples)"
      ]
    },
    {
      "cell_type": "code",
      "execution_count": null,
      "metadata": {
        "id": "m7T68S2pwaW6"
      },
      "outputs": [],
      "source": [
        "from google.colab import drive\n",
        "drive.mount('/content/drive')"
      ]
    },
    {
      "cell_type": "code",
      "execution_count": null,
      "metadata": {
        "id": "koT3a7G-wMDw"
      },
      "outputs": [],
      "source": [
        "import os, glob\n",
        "os.makedirs('speech_waveforms',exist_ok=True)\n",
        "out_dir='/content/speech_waveforms'\n",
        "data_dir='/content/drive/My Drive/berlin_speech/'\n",
        "os.listdir(data_dir)"
      ]
    },
    {
      "cell_type": "code",
      "execution_count": null,
      "metadata": {
        "id": "08TVPYVQwL-2"
      },
      "outputs": [],
      "source": [
        "for folder in os.listdir(data_dir):\n",
        "  print(os.listdir(os.path.join(data_dir,folder)))\n",
        "  break"
      ]
    },
    {
      "cell_type": "code",
      "execution_count": null,
      "metadata": {
        "id": "7JRMhbkPwp99"
      },
      "outputs": [],
      "source": [
        "for folder in os.listdir(data_dir):\n",
        "  os.makedirs(os.path.join(out_dir,folder))"
      ]
    },
    {
      "cell_type": "code",
      "execution_count": null,
      "metadata": {
        "id": "JUAhuejJwp6k"
      },
      "outputs": [],
      "source": [
        "from matplotlib.colors import Normalize"
      ]
    },
    {
      "cell_type": "code",
      "execution_count": null,
      "metadata": {
        "id": "U4KjUrkRyEHa"
      },
      "outputs": [],
      "source": [
        "from ssqueezepy import cwt\n",
        "from ssqueezepy.visuals import plot, imshow"
      ]
    },
    {
      "cell_type": "code",
      "execution_count": null,
      "metadata": {
        "id": "EF7A6MK8wL6k"
      },
      "outputs": [],
      "source": [
        "import librosa"
      ]
    },
    {
      "cell_type": "code",
      "execution_count": null,
      "metadata": {
        "id": "yTkZOE25ySSw"
      },
      "outputs": [],
      "source": [
        "# Get the critical imports out of the way\n",
        "import matplotlib.pyplot as plt\n",
        "import pandas as pd\n",
        "import numpy as np\n",
        "import librosa.display\n",
        "import soundfile\n",
        "\n",
        "from IPython.core.display import HTML \n",
        "# Center matplotlib figures...\n",
        "HTML(\"\"\"\n",
        "<style>\n",
        ".output_jpg {\n",
        "    display: table-cell;\n",
        "    text-align: center;\n",
        "    vertical-align: middle;\n",
        "}\n",
        "</style>\n",
        "\"\"\")"
      ]
    },
    {
      "cell_type": "code",
      "execution_count": null,
      "metadata": {
        "colab": {
          "background_save": true
        },
        "id": "Vyiz5pxZw3hV"
      },
      "outputs": [],
      "source": [
        "for folder in os.listdir(data_dir):\n",
        "  i=0\n",
        "  for fil in os.listdir(os.path.join(data_dir,folder)):\n",
        "    dir=os.path.join(data_dir,folder,fil)\n",
        "    with soundfile.SoundFile(dir) as audio:\n",
        "      waveform=audio.read(dtype=\"float32\")\n",
        "      sample_rate=audio.samplerate\n",
        "      fct=chirps.compute(waveform)\n",
        "      spectrum = 10. * np.log10(fct)\n",
        "      #Tsxo, Sxo, *_ = ssq_stft(waveform)\n",
        "      imshow(fct,abs=1)\n",
        "      #plt.imshow(np.abs(Sxo), aspect='auto', cmap='jet')\n",
        "      plt.savefig(os.path.join(out_dir,folder,'chirp_normal{:04}.jpg'.format(i)))\n",
        "      plt.show()\n",
        "\n",
        "\n",
        "      imshow(spectrum,abs=1)\n",
        "      #plt.imshow(np.abs(Sxo), aspect='auto', cmap='jet')\n",
        "      plt.savefig(os.path.join(out_dir,folder,'chirp_log{:04}.jpg'.format(i)))\n",
        "      plt.show()\n",
        "      \"\"\"\n",
        "      plt.imshow(np.abs(Tsxo), aspect='auto', vmin=0, vmax=.2, cmap='jet')\n",
        "      plt.savefig(os.path.join(out_dir,folder,'spsst{:04}.jpg'.format(i)))\n",
        "      plt.show()\n",
        "      \"\"\"\n",
        "      Wx, scales = cwt(waveform, 'morlet') \n",
        "      imshow(Wx, yticks=scales, abs=1,title=\"abs(CWT) | Morlet wavelet\", ylabel=\"scales\", xlabel=\"samples\")\n",
        "      #Twx, Wx, *_ = ssq_cwt(waveform)\n",
        "      #plt.imshow(np.abs(Wx), aspect='auto', cmap='jet')\n",
        "      plt.savefig(os.path.join(out_dir,folder,'cwt{:04}.jpg'.format(i)))\n",
        "      plt.show()\n",
        "      \"\"\"\n",
        "      plt.imshow(np.abs(Twx), aspect='auto', vmin=0, vmax=.2, cmap='jet')\n",
        "      plt.savefig(os.path.join(out_dir,folder,'cwsst{:04}.jpg'.format(i)))\n",
        "      plt.show()\n",
        "      \"\"\"\n",
        "      i+=1"
      ]
    },
    {
      "cell_type": "code",
      "execution_count": null,
      "metadata": {
        "id": "ryaYPa94w3eb"
      },
      "outputs": [],
      "source": [
        "#@title Utility to zip and download a directory\n",
        "#@markdown Use this method to zip and download a directory. For ex. a TB logs \n",
        "#@markdown directory or a checkpoint(s) directory.\n",
        "\n",
        "from google.colab import files\n",
        "import os\n",
        "\n",
        "dir_to_zip = 'speech_waveforms' #@param {type: \"string\"}\n",
        "output_filename = 'file.zip' #@param {type: \"string\"}\n",
        "delete_dir_after_download = \"No\"  #@param ['Yes', 'No']\n",
        "\n",
        "os.system( \"zip -r {} {}\".format( output_filename , dir_to_zip ) )\n",
        "\n",
        "if delete_dir_after_download == \"Yes\":\n",
        "    os.system( \"rm -r {}\".format( dir_to_zip ) )\n",
        "\n",
        "files.download( output_filename )"
      ]
    },
    {
      "cell_type": "code",
      "execution_count": null,
      "metadata": {
        "id": "42l_6D4mw3bi"
      },
      "outputs": [],
      "source": [
        ""
      ]
    },
    {
      "cell_type": "code",
      "execution_count": null,
      "metadata": {
        "id": "cZGgXTWMw3X6"
      },
      "outputs": [],
      "source": [
        ""
      ]
    },
    {
      "cell_type": "code",
      "execution_count": null,
      "metadata": {
        "id": "TiG1cUpLw3UW"
      },
      "outputs": [],
      "source": [
        ""
      ]
    },
    {
      "cell_type": "code",
      "execution_count": null,
      "metadata": {
        "id": "BfKyiFh0w3Qy"
      },
      "outputs": [],
      "source": [
        ""
      ]
    }
  ],
  "metadata": {
    "colab": {
      "collapsed_sections": [],
      "name": "chirplet and cwt features.ipynb",
      "provenance": [],
      "include_colab_link": true
    },
    "kernelspec": {
      "display_name": "Python 3",
      "name": "python3"
    },
    "language_info": {
      "name": "python"
    }
  },
  "nbformat": 4,
  "nbformat_minor": 0
}