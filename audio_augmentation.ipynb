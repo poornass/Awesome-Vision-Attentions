{
  "nbformat": 4,
  "nbformat_minor": 0,
  "metadata": {
    "colab": {
      "provenance": [],
      "authorship_tag": "ABX9TyNytyQ2nm1SOMPdB8PF6XDp",
      "include_colab_link": true
    },
    "kernelspec": {
      "name": "python3",
      "display_name": "Python 3"
    },
    "language_info": {
      "name": "python"
    }
  },
  "cells": [
    {
      "cell_type": "markdown",
      "metadata": {
        "id": "view-in-github",
        "colab_type": "text"
      },
      "source": [
        "<a href=\"https://colab.research.google.com/github/poornass/Awesome-Vision-Attentions/blob/main/audio_augmentation.ipynb\" target=\"_parent\"><img src=\"https://colab.research.google.com/assets/colab-badge.svg\" alt=\"Open In Colab\"/></a>"
      ]
    },
    {
      "cell_type": "code",
      "execution_count": 1,
      "metadata": {
        "colab": {
          "base_uri": "https://localhost:8080/"
        },
        "id": "Im7UFjvuXMat",
        "outputId": "5c41d794-9d9f-441c-838c-2302b6e7bc17"
      },
      "outputs": [
        {
          "output_type": "stream",
          "name": "stdout",
          "text": [
            "Mounted at /content/drive\n"
          ]
        }
      ],
      "source": [
        "from google.colab import drive\n",
        "drive.mount('/content/drive')"
      ]
    },
    {
      "cell_type": "code",
      "source": [
        "import sys \n",
        "sys.path.append('/content/new data')\n",
        "import numpy as np\n",
        "import scipy.io.wavfile as wavf\n",
        "samples = np.random.randn(44100*5)\n",
        "fs = 16000\n",
        "out_file = 'audio.wav'\n",
        "wavf.write(out_file, fs, samples)"
      ],
      "metadata": {
        "id": "Id4zV1hBXXX1"
      },
      "execution_count": 2,
      "outputs": []
    },
    {
      "cell_type": "code",
      "source": [
        "import os, glob\n",
        "os.makedirs('speech_waveforms',exist_ok=True)\n",
        "out_dir='/content/speech_waveforms'\n",
        "data_dir='/content/drive/My Drive/berlin_speech/'\n",
        "os.listdir(data_dir)"
      ],
      "metadata": {
        "colab": {
          "base_uri": "https://localhost:8080/"
        },
        "id": "KIH-K00SXeqf",
        "outputId": "21d122eb-33e0-4420-bbd4-40338ab5d0be"
      },
      "execution_count": 3,
      "outputs": [
        {
          "output_type": "execute_result",
          "data": {
            "text/plain": [
              "['boredom', 'happy', 'disgust', 'sadness', 'neutral', 'fear', 'anger']"
            ]
          },
          "metadata": {},
          "execution_count": 3
        }
      ]
    },
    {
      "cell_type": "code",
      "source": [
        "for folder in os.listdir(data_dir):\n",
        "  print(os.listdir(os.path.join(data_dir,folder)))\n",
        "  break"
      ],
      "metadata": {
        "colab": {
          "base_uri": "https://localhost:8080/"
        },
        "id": "tQrm1_wZXjp2",
        "outputId": "c250f511-038b-4366-b3df-280c13e91e3b"
      },
      "execution_count": 4,
      "outputs": [
        {
          "output_type": "stream",
          "name": "stdout",
          "text": [
            "['bore(5).wav', 'bore(35).wav', 'bore(27).wav', 'bore(40).wav', 'bore(58).wav', 'bore(67).wav', 'bore(15).wav', 'bore(19).wav', 'bore(6).wav', 'bore(41).wav', 'bore(28).wav', 'bore(50).wav', 'bore(68).wav', 'bore(59).wav', 'bore(16).wav', 'bore(7).wav', 'bore(81).wav', 'bore(51).wav', 'bore(42).wav', 'bore(70).wav', 'bore(69).wav', 'bore(8).wav', 'bore(17).wav', 'bore(20).wav', 'bore(29).wav', 'bore(36).wav', 'bore(43).wav', 'bore(52).wav', 'bore(60).wav', 'bore(71).wav', 'bore(1).wav', 'bore(9).wav', 'bore(21).wav', 'bore(30).wav', 'bore(54).wav', 'bore(37).wav', 'bore(44).wav', 'bore(53).wav', 'bore(72).wav', 'bore(61).wav', 'bore(73).wav', 'bore(3).wav', 'bore(11).wav', 'bore(23).wav', 'bore(46).wav', 'bore(76).wav', 'bore(63).wav', 'bore(12).wav', 'bore(32).wav', 'bore(24).wav', 'bore(18).wav', 'bore(47).wav', 'bore(38).wav', 'bore(64).wav', 'bore(55).wav', 'bore(77).wav', 'bore(4).wav', 'bore(13).wav', 'bore(33).wav', 'bore(25).wav', 'bore(48).wav', 'bore(56).wav', 'bore(79).wav', 'bore(65).wav', 'bore(78).wav', 'bore(14).wav', 'bore(34).wav', 'bore(39).wav', 'bore(49).wav', 'bore(26).wav', 'bore(57).wav', 'bore(66).wav', 'bore(2).wav', 'bore(80).wav', 'bore(22).wav', 'bore(10).wav', 'bore(31).wav', 'bore(45).wav', 'bore(74).wav', 'bore(62).wav', 'bore(75).wav']\n"
          ]
        }
      ]
    },
    {
      "cell_type": "code",
      "source": [
        "for folder in os.listdir(data_dir):\n",
        "  os.makedirs(os.path.join(out_dir,folder))"
      ],
      "metadata": {
        "id": "luwmGOFoXosO"
      },
      "execution_count": 5,
      "outputs": []
    },
    {
      "cell_type": "code",
      "source": [
        "# Get the critical imports out of the way\n",
        "import matplotlib.pyplot as plt\n",
        "import pandas as pd\n",
        "import numpy as np\n",
        "import librosa.display\n",
        "import soundfile\n",
        "\n",
        "from IPython.core.display import HTML \n",
        "# Center matplotlib figures...\n",
        "HTML(\"\"\"\n",
        "<style>\n",
        ".output_jpg {\n",
        "    display: table-cell;\n",
        "    text-align: center;\n",
        "    vertical-align: middle;\n",
        "}\n",
        "</style>\n",
        "\"\"\")"
      ],
      "metadata": {
        "colab": {
          "base_uri": "https://localhost:8080/",
          "height": 17
        },
        "id": "zvEspO0kX7kk",
        "outputId": "9654fec4-2882-4f36-971e-c99175128ebc"
      },
      "execution_count": 6,
      "outputs": [
        {
          "output_type": "execute_result",
          "data": {
            "text/plain": [
              "<IPython.core.display.HTML object>"
            ],
            "text/html": [
              "\n",
              "<style>\n",
              ".output_jpg {\n",
              "    display: table-cell;\n",
              "    text-align: center;\n",
              "    vertical-align: middle;\n",
              "}\n",
              "</style>\n"
            ]
          },
          "metadata": {},
          "execution_count": 6
        }
      ]
    },
    {
      "cell_type": "code",
      "source": [
        "pip uninstall librosa"
      ],
      "metadata": {
        "colab": {
          "base_uri": "https://localhost:8080/"
        },
        "id": "uaHXrN_wPvCj",
        "outputId": "874fff3a-7bd9-41ba-b372-622b08e1f3dd"
      },
      "execution_count": 7,
      "outputs": [
        {
          "output_type": "stream",
          "name": "stdout",
          "text": [
            "Found existing installation: librosa 0.8.1\n",
            "Uninstalling librosa-0.8.1:\n",
            "  Would remove:\n",
            "    /usr/local/lib/python3.8/dist-packages/librosa-0.8.1.dist-info/*\n",
            "    /usr/local/lib/python3.8/dist-packages/librosa/*\n",
            "Proceed (Y/n)? y\n",
            "  Successfully uninstalled librosa-0.8.1\n"
          ]
        }
      ]
    },
    {
      "cell_type": "code",
      "source": [
        "pip install librosa==0.7.2"
      ],
      "metadata": {
        "colab": {
          "base_uri": "https://localhost:8080/",
          "height": 607
        },
        "id": "uTyawJxhPSa4",
        "outputId": "bb4934e7-1cbe-44c7-d5e9-90bf0eb6eb4c"
      },
      "execution_count": 8,
      "outputs": [
        {
          "output_type": "stream",
          "name": "stdout",
          "text": [
            "Looking in indexes: https://pypi.org/simple, https://us-python.pkg.dev/colab-wheels/public/simple/\n",
            "Collecting librosa==0.7.2\n",
            "  Downloading librosa-0.7.2.tar.gz (1.6 MB)\n",
            "\u001b[2K     \u001b[90m━━━━━━━━━━━━━━━━━━━━━━━━━━━━━━━━━━━━━━━━\u001b[0m \u001b[32m1.6/1.6 MB\u001b[0m \u001b[31m17.9 MB/s\u001b[0m eta \u001b[36m0:00:00\u001b[0m\n",
            "\u001b[?25h  Preparing metadata (setup.py) ... \u001b[?25l\u001b[?25hdone\n",
            "Requirement already satisfied: audioread>=2.0.0 in /usr/local/lib/python3.8/dist-packages (from librosa==0.7.2) (3.0.0)\n",
            "Requirement already satisfied: numpy>=1.15.0 in /usr/local/lib/python3.8/dist-packages (from librosa==0.7.2) (1.21.6)\n",
            "Requirement already satisfied: scipy>=1.0.0 in /usr/local/lib/python3.8/dist-packages (from librosa==0.7.2) (1.7.3)\n",
            "Requirement already satisfied: scikit-learn!=0.19.0,>=0.14.0 in /usr/local/lib/python3.8/dist-packages (from librosa==0.7.2) (1.0.2)\n",
            "Requirement already satisfied: joblib>=0.12 in /usr/local/lib/python3.8/dist-packages (from librosa==0.7.2) (1.2.0)\n",
            "Requirement already satisfied: decorator>=3.0.0 in /usr/local/lib/python3.8/dist-packages (from librosa==0.7.2) (4.4.2)\n",
            "Requirement already satisfied: six>=1.3 in /usr/local/lib/python3.8/dist-packages (from librosa==0.7.2) (1.15.0)\n",
            "Requirement already satisfied: resampy>=0.2.2 in /usr/local/lib/python3.8/dist-packages (from librosa==0.7.2) (0.4.2)\n",
            "Requirement already satisfied: numba>=0.43.0 in /usr/local/lib/python3.8/dist-packages (from librosa==0.7.2) (0.56.4)\n",
            "Requirement already satisfied: soundfile>=0.9.0 in /usr/local/lib/python3.8/dist-packages (from librosa==0.7.2) (0.11.0)\n",
            "Requirement already satisfied: llvmlite<0.40,>=0.39.0dev0 in /usr/local/lib/python3.8/dist-packages (from numba>=0.43.0->librosa==0.7.2) (0.39.1)\n",
            "Requirement already satisfied: setuptools in /usr/local/lib/python3.8/dist-packages (from numba>=0.43.0->librosa==0.7.2) (57.4.0)\n",
            "Requirement already satisfied: importlib-metadata in /usr/local/lib/python3.8/dist-packages (from numba>=0.43.0->librosa==0.7.2) (6.0.0)\n",
            "Requirement already satisfied: threadpoolctl>=2.0.0 in /usr/local/lib/python3.8/dist-packages (from scikit-learn!=0.19.0,>=0.14.0->librosa==0.7.2) (3.1.0)\n",
            "Requirement already satisfied: cffi>=1.0 in /usr/local/lib/python3.8/dist-packages (from soundfile>=0.9.0->librosa==0.7.2) (1.15.1)\n",
            "Requirement already satisfied: pycparser in /usr/local/lib/python3.8/dist-packages (from cffi>=1.0->soundfile>=0.9.0->librosa==0.7.2) (2.21)\n",
            "Requirement already satisfied: zipp>=0.5 in /usr/local/lib/python3.8/dist-packages (from importlib-metadata->numba>=0.43.0->librosa==0.7.2) (3.12.0)\n",
            "Building wheels for collected packages: librosa\n",
            "  Building wheel for librosa (setup.py) ... \u001b[?25l\u001b[?25hdone\n",
            "  Created wheel for librosa: filename=librosa-0.7.2-py3-none-any.whl size=1612903 sha256=4b8e0d5648b9dad16b9d2d6418f46cc435c5df74c6802917521163de1e329fb8\n",
            "  Stored in directory: /root/.cache/pip/wheels/11/f0/b0/a8f9944f274bbc0f0159f2268f43dadcfa1cfe50a9007d8e1f\n",
            "Successfully built librosa\n",
            "Installing collected packages: librosa\n",
            "Successfully installed librosa-0.7.2\n"
          ]
        },
        {
          "output_type": "display_data",
          "data": {
            "application/vnd.colab-display-data+json": {
              "pip_warning": {
                "packages": [
                  "librosa"
                ]
              }
            }
          },
          "metadata": {}
        }
      ]
    },
    {
      "cell_type": "code",
      "source": [
        "#pip install librosa==0.7.2"
      ],
      "metadata": {
        "id": "5-ZtJ9AIPCEK"
      },
      "execution_count": 9,
      "outputs": []
    },
    {
      "cell_type": "code",
      "source": [
        "#import librosa==0.6.1"
      ],
      "metadata": {
        "id": "gkzIKcJ4X-pN"
      },
      "execution_count": 10,
      "outputs": []
    },
    {
      "cell_type": "code",
      "source": [
        "print(librosa.__version__)"
      ],
      "metadata": {
        "colab": {
          "base_uri": "https://localhost:8080/"
        },
        "id": "qcYeCd7KNl03",
        "outputId": "d26d0745-a249-4cb9-ac49-eb28adf676bc"
      },
      "execution_count": 11,
      "outputs": [
        {
          "output_type": "stream",
          "name": "stdout",
          "text": [
            "0.8.1\n"
          ]
        }
      ]
    },
    {
      "cell_type": "code",
      "source": [
        "import pathlib\n",
        "import os\n",
        "from fastai import *\n",
        "from fastai.vision import *\n",
        "from scipy import signal\n",
        "from scipy.io import wavfile\n",
        "from fastprogress import progress_bar\n",
        "import soundfile as sf\n"
      ],
      "metadata": {
        "id": "4llu-l2_YKCk"
      },
      "execution_count": 12,
      "outputs": []
    },
    {
      "cell_type": "code",
      "source": [
        "for folder in os.listdir(data_dir):\n",
        "  i=0\n",
        "  for fil in os.listdir(os.path.join(data_dir,folder)):\n",
        "    dir=os.path.join(data_dir,folder,fil)\n",
        "    with soundfile.SoundFile(dir) as audio:\n",
        "      waveform=audio.read(dtype=\"float32\")\n",
        "      sample_rate=audio.samplerate\n",
        "      librosa.display.waveplot(waveform,sr=sample_rate)\n",
        "      wav_n = waveform + 0.009*np.random.normal(0,1,len(waveform))#tfms 1: Noise addition:\n",
        "      wav_roll = np.roll(waveform,int(sample_rate/10))#tfms 2: Shifting Sound wave:\n",
        "      factor = 0.4 #tfms 3: Time - stretching\n",
        "      wav_time_stch = librosa.effects.time_stretch(waveform,factor)\n",
        "      wav_pitch_sf = librosa.effects.pitch_shift(waveform,sr=sample_rate,n_steps=-5) #tfms 4: Pitch - Shifting\n",
        "      sf.write(os.path.join(out_dir,folder,'noise{:04}.wav'.format(i)), wav_n, sample_rate, 'PCM_24')\n",
        "      sf.write(os.path.join(out_dir,folder,'sshifting{:04}.wav'.format(i)), wav_roll, sample_rate, 'PCM_24')\n",
        "      sf.write(os.path.join(out_dir,folder,'stretch{:04}.wav'.format(i)), wav_time_stch, sample_rate, 'PCM_24')\n",
        "      sf.write(os.path.join(out_dir,folder,'pshift{:04}.wav'.format(i)), wav_pitch_sf, sample_rate, 'PCM_24')\n",
        "      #librosa.output.write_wav(os.path.join(out_dir,folder,'noise{:04}.wav'.format(i), wav_n, sample_rate))\n",
        "      i+=1"
      ],
      "metadata": {
        "colab": {
          "base_uri": "https://localhost:8080/",
          "height": 279
        },
        "id": "uxqHiBj3Krtb",
        "outputId": "0650fb68-fb50-417d-a705-1f1e24bd1aa6"
      },
      "execution_count": 19,
      "outputs": [
        {
          "output_type": "display_data",
          "data": {
            "text/plain": [
              "<Figure size 432x288 with 1 Axes>"
            ],
            "image/png": "[encoded data removed]"
          },
          "metadata": {
            "needs_background": "light"
          }
        }
      ]
    },
    {
      "cell_type": "code",
      "source": [
        "#@title Utility to zip and download a directory\n",
        "#@markdown Use this method to zip and download a directory. For ex. a TB logs \n",
        "#@markdown directory or a checkpoint(s) directory.\n",
        "\n",
        "from google.colab import files\n",
        "import os\n",
        "\n",
        "dir_to_zip = 'speech_waveforms' #@param {type: \"string\"}\n",
        "output_filename = 'file.zip' #@param {type: \"string\"}\n",
        "delete_dir_after_download = \"No\"  #@param ['Yes', 'No']\n",
        "\n",
        "os.system( \"zip -r {} {}\".format( output_filename , dir_to_zip ) )\n",
        "\n",
        "if delete_dir_after_download == \"Yes\":\n",
        "    os.system( \"rm -r {}\".format( dir_to_zip ) )\n",
        "\n",
        "files.download( output_filename )"
      ],
      "metadata": {
        "colab": {
          "base_uri": "https://localhost:8080/",
          "height": 17
        },
        "id": "Fvy-T2D8YFJK",
        "outputId": "f262115a-b897-4955-83b0-416c53e63ba7"
      },
      "execution_count": 20,
      "outputs": [
        {
          "output_type": "display_data",
          "data": {
            "text/plain": [
              "<IPython.core.display.Javascript object>"
            ],
            "application/javascript": [
              "\n",
              "    async function download(id, filename, size) {\n",
              "      if (!google.colab.kernel.accessAllowed) {\n",
              "        return;\n",
              "      }\n",
              "      const div = document.createElement('div');\n",
              "      const label = document.createElement('label');\n",
              "      label.textContent = `Downloading \"${filename}\": `;\n",
              "      div.appendChild(label);\n",
              "      const progress = document.createElement('progress');\n",
              "      progress.max = size;\n",
              "      div.appendChild(progress);\n",
              "      document.body.appendChild(div);\n",
              "\n",
              "      const buffers = [];\n",
              "      let downloaded = 0;\n",
              "\n",
              "      const channel = await google.colab.kernel.comms.open(id);\n",
              "      // Send a message to notify the kernel that we're ready.\n",
              "      channel.send({})\n",
              "\n",
              "      for await (const message of channel.messages) {\n",
              "        // Send a message to notify the kernel that we're ready.\n",
              "        channel.send({})\n",
              "        if (message.buffers) {\n",
              "          for (const buffer of message.buffers) {\n",
              "            buffers.push(buffer);\n",
              "            downloaded += buffer.byteLength;\n",
              "            progress.value = downloaded;\n",
              "          }\n",
              "        }\n",
              "      }\n",
              "      const blob = new Blob(buffers, {type: 'application/binary'});\n",
              "      const a = document.createElement('a');\n",
              "      a.href = window.URL.createObjectURL(blob);\n",
              "      a.download = filename;\n",
              "      div.appendChild(a);\n",
              "      a.click();\n",
              "      div.remove();\n",
              "    }\n",
              "  "
            ]
          },
          "metadata": {}
        },
        {
          "output_type": "display_data",
          "data": {
            "text/plain": [
              "<IPython.core.display.Javascript object>"
            ],
            "application/javascript": [
              "download(\"download_595e3dd6-e57f-493c-b637-4164eb6f820a\", \"file.zip\", 349379305)"
            ]
          },
          "metadata": {}
        }
      ]
    },
    {
      "cell_type": "markdown",
      "source": [],
      "metadata": {
        "id": "HokrwyhUX7NE"
      }
    }
  ]
}